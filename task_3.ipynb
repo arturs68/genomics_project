{
 "cells": [
  {
   "cell_type": "markdown",
   "metadata": {},
   "source": [
    "# Task 3"
   ]
  },
  {
   "cell_type": "markdown",
   "metadata": {},
   "source": [
    "Find differentially expressed genes in breast cancer. Make plots for differential expression analysis similar to those in https://f1000research.com/articles/5-1408/v3."
   ]
  },
  {
   "cell_type": "code",
   "execution_count": 1,
   "metadata": {},
   "outputs": [],
   "source": [
    "import pandas as pd\n",
    "import matplotlib.pyplot as plt"
   ]
  },
  {
   "cell_type": "code",
   "execution_count": 2,
   "metadata": {},
   "outputs": [
    {
     "data": {
      "image/png": "[encoded data removed]",
      "text/plain": [
       "<Figure size 432x288 with 1 Axes>"
      ]
     },
     "metadata": {
      "needs_background": "light"
     },
     "output_type": "display_data"
    }
   ],
   "source": [
    "proliferation_df = pd.read_excel(\"data/1-s2.0-S0092867415011952-mmc2.xlsx\").iloc[1:, :5]\n",
    "proliferation_df.columns = proliferation_df.iloc[0]\n",
    "proliferation_df = proliferation_df.drop(proliferation_df.index[0])\n",
    "proliferation_df = proliferation_df[[\"Case.ID\", \"ProliferationScore\"]]\n",
    "proliferation_df[\"Case.ID\"] = proliferation_df[\"Case.ID\"].apply(lambda x: x + \"-01\")\n",
    "proliferation_df[\"ProliferationScore\"] = proliferation_df[\"ProliferationScore\"].astype(float)\n",
    "proliferation_df[[\"ProliferationScore\"]].boxplot();"
   ]
  },
  {
   "cell_type": "code",
   "execution_count": 3,
   "metadata": {},
   "outputs": [],
   "source": [
    "first_quartile = proliferation_df.quantile(q=0.25).values[0]\n",
    "third_quartile = proliferation_df.quantile(q=0.75).values[0]"
   ]
  },
  {
   "cell_type": "code",
   "execution_count": 4,
   "metadata": {},
   "outputs": [],
   "source": [
    "third_quartile_df = proliferation_df[proliferation_df[\"ProliferationScore\"] >= third_quartile]\n",
    "first_quartile_df = proliferation_df[proliferation_df[\"ProliferationScore\"] <= first_quartile]"
   ]
  },
  {
   "cell_type": "code",
   "execution_count": 5,
   "metadata": {},
   "outputs": [],
   "source": [
    "import rpy2.robjects as ro\n",
    "from rpy2.robjects import pandas2ri\n",
    "\n",
    "from rpy2.robjects.conversion import localconverter"
   ]
  },
  {
   "cell_type": "code",
   "execution_count": 6,
   "metadata": {},
   "outputs": [
    {
     "name": "stderr",
     "output_type": "stream",
     "text": [
      "/Users/szalata/anaconda3/envs/ada/lib/python3.7/site-packages/rpy2/robjects/pandas2ri.py:63: UserWarning: Error while trying to convert the column \"Case.ID\". Fall back to string conversion. The error is: module 'pandas' has no attribute 'NA'\n",
      "  % (name, str(e)))\n"
     ]
    },
    {
     "data": {
      "text/plain": [
       "<rpy2.rinterface_lib.sexp.NULLType object at 0x113cacb90> [RTYPES.NILSXP]"
      ]
     },
     "execution_count": 6,
     "metadata": {},
     "output_type": "execute_result"
    }
   ],
   "source": [
    "with localconverter(ro.default_converter + pandas2ri.converter):\n",
    "    r_third_quartile_df = ro.conversion.py2rpy(third_quartile_df)\n",
    "    r_first_quartile_df = ro.conversion.py2rpy(first_quartile_df)\n",
    "r_third_quartile_df.to_csvfile(\"data/proliferation_third_quartile_df.csv\")\n",
    "r_first_quartile_df.to_csvfile(\"data/proliferation_first_quartile_df.csv\")"
   ]
  },
  {
   "cell_type": "markdown",
   "metadata": {},
   "source": [
    "Run task_3_differential_expression R script"
   ]
  },
  {
   "cell_type": "markdown",
   "metadata": {},
   "source": [
    "<img src=\"img/filtering.png\" alt=\"filtering\" width=\"500\"/>"
   ]
  },
  {
   "cell_type": "markdown",
   "metadata": {},
   "source": [
    "<img src=\"img/normalization.png\" alt=\"normalization\" width=\"500\"/>"
   ]
  },
  {
   "cell_type": "markdown",
   "metadata": {},
   "source": [
    "<img src=\"img/sample_groups.png\" alt=\"5A\" width=\"500\"/>"
   ]
  },
  {
   "cell_type": "markdown",
   "metadata": {},
   "source": [
    "<img src=\"img/voom-mean-variance-trend.png\" alt=\"5A\" width=\"500\"/>"
   ]
  },
  {
   "cell_type": "markdown",
   "metadata": {},
   "source": [
    "<img src=\"img/mean_vs_sigma.png\" alt=\"5A\" width=\"500\"/>"
   ]
  },
  {
   "cell_type": "markdown",
   "metadata": {},
   "source": [
    "<img src=\"img/highvslow.png\" alt=\"5A\" width=\"500\"/>"
   ]
  },
  {
   "cell_type": "markdown",
   "metadata": {},
   "source": [
    "<img src=\"img/proliferation_heatmap.png\" alt=\"5A\" width=\"500\"/>"
   ]
  },
  {
   "cell_type": "markdown",
   "metadata": {},
   "source": [
    "top 100 genes"
   ]
  },
  {
   "cell_type": "code",
   "execution_count": null,
   "metadata": {},
   "outputs": [],
   "source": []
  }
 ],
 "metadata": {
  "kernelspec": {
   "display_name": "Python 3",
   "language": "python",
   "name": "python3"
  },
  "language_info": {
   "codemirror_mode": {
    "name": "ipython",
    "version": 3
   },
   "file_extension": ".py",
   "mimetype": "text/x-python",
   "name": "python",
   "nbconvert_exporter": "python",
   "pygments_lexer": "ipython3",
   "version": "3.7.4"
  }
 },
 "nbformat": 4,
 "nbformat_minor": 4
}
