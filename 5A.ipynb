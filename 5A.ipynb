{
 "cells": [
  {
   "cell_type": "markdown",
   "metadata": {},
   "source": [
    "# Task 2\n",
    "\n",
    "Reproduce figure 5A (but use blue-white-red color palette instead of green-black-red); make another heatmap of gene expression "
   ]
  },
  {
   "cell_type": "markdown",
   "metadata": {},
   "source": [
    "Figure caption:\n",
    "\n",
    "ILC Molecular Subtypes(A) Three molecular subtype of lobular breast cancer were identified based on differential gene expression and show unique patterns highly expressed genes(n = 1277, SAM FDR = 0, upper panel), minor difference in tumor purity measured by ABSOLUTE, and differences in gene expression signatures measuringproliferation, CD68, Macrophage-associated CSF1, Macrophage–associated TH1, and T Cell Receptor Signaling (lower panel). Proliferation is highest in theproliferative(Pro) andimmune-related(IR) subgroups; macrophage associated signaling is highest inimmune-relatedtumors."
   ]
  },
  {
   "cell_type": "markdown",
   "metadata": {},
   "source": [
    "Section describing the figure:\n",
    "\n",
    "### ILC mRNA Subtypes\n",
    "\n",
    "Using mRNA-seq expression data from LumA ILC samples\n",
    "(n = 106), we identified three ILC subtypes termed reactive-like,\n",
    "immune-related, and proliferative (Figures S5A–S5I, Table S8).\n",
    "We then used a 3-class ILC subtype classifier (60 genes, Table\n",
    "S13) to score all ILC samples in the TCGA (n = 127) (Figure 5A)\n",
    "and METABRIC (Curtis et al., 2012) datasets (Table S12). Our\n",
    "analyses identified many significant genomic features that distinguished each ILC subtype at the mRNA and protein/phosphoprotein level; but no distinguishing somatic mutations or DNA\n",
    "copy-number alterations.\n",
    "Significant analysis of microarray (SAM) analysis (Tusher et al.,\n",
    "2001) identified 1,277 genes differentially expressed between\n",
    "ILC subtypes (q = 0) (Figure 5A, Table S8). Of these, 1,005\n",
    "were highly expressed in reactive-like tumors, which had lower\n",
    "tumor purity as determined by ABSOLUTE (Carter et al., 2012)\n",
    "(Figures 5A and S5P), and included genes consistent with\n",
    "epithelial and stromal-associated signaling including keratin,\n",
    "kallikrein, and claudin genes as well as the oncogenes EGFR,\n",
    "MET, PDGFRA, and KIT (Table S8). The remaining 272 genes\n",
    "were highly expressed in immune-related tumors and include\n",
    "modulators of immunogenic signaling such as interleukins (IL),\n",
    "chemokine receptors and ligands, major histocompatibility complex, and tumor necrosis factors, as well as IDO1 and IFNG\n",
    "(Figure 5A and Table S8). Interestingly, immune activity in this\n",
    "subset of tumors appears to be predominantly associated with\n",
    "macrophage-associated signaling as increased levels of CD68\n",
    "(p < 0.05), macrophage-associated colony stimulating factor\n",
    "(MacCSF), macrophage-associated TH1 (MacTH1), and T cell\n",
    "receptor (TCR) gene expression signatures (Iglesia et al., 2014)\n",
    "were observed in both the TCGA (Figure 5A) and METABRIC\n",
    "(Figure S5J–S5K) datasets. Finally, proliferative tumors were\n",
    "defined by low expression of each of these 1,277 genes\n",
    "(Figure 5A). Intriguingly, in each dataset (Figures 5 and S5K)\n",
    "proliferative tumors had higher levels of proliferation relative\n",
    "to reactive-like tumors (TCGA: p = 3.3E-09; METABRIC: p =\n",
    "0.018) and slightly higher or equivalent levels compared to\n",
    "immune-related ones (TGCA: p = 0.29; METABRIC: p = 0.008).\n",
    "Regardless of ILC subtype, ILC tumor proliferation was generally\n",
    "lower than all IDC subtypes (Figures S5L–S5M)."
   ]
  },
  {
   "cell_type": "markdown",
   "metadata": {},
   "source": [
    "<img src=\"img/5A.png\" alt=\"5A\" width=\"300\"/>"
   ]
  },
  {
   "cell_type": "code",
   "execution_count": 1,
   "metadata": {},
   "outputs": [],
   "source": [
    "import pandas as pd\n",
    "import numpy as np"
   ]
  },
  {
   "cell_type": "markdown",
   "metadata": {},
   "source": [
    "## load the data"
   ]
  },
  {
   "cell_type": "markdown",
   "metadata": {},
   "source": [
    "Source: supplementary material to https://www.cbioportal.org/study/summary?id=brca_tcga_pub2015"
   ]
  },
  {
   "cell_type": "markdown",
   "metadata": {},
   "source": [
    "Adding subclasses, PAM50, Proliferation score, Tumor Puriy"
   ]
  },
  {
   "cell_type": "code",
   "execution_count": null,
   "metadata": {},
   "outputs": [],
   "source": [
    "xls = pd.ExcelFile(\"data/BRCA817_sample_subgroups.xlsx\")\n",
    "ilc_classification_df = pd.read_excel(xls, \" ILC mRNA subtypes\").iloc[:, 2:].drop(columns=[\"Final Pathology (3.26.14)\"])\n",
    "ilc_classification_df[\"Sample ID\"] = ilc_classification_df[\"Case.ID\"].apply(lambda x: x.replace(\".\", \"-\") + \"-01\")\n",
    "ilc_classification_df = ilc_classification_df.sort_values(by=[\"ILC_Class_score 06.04.2014\", \"PAM50\"]).drop(columns=[\"Case.ID\"])\n",
    "ilc_classification_df = ilc_classification_df.rename(columns={\"ILC_Class_score 06.04.2014\": \"subclass\"})\n",
    "ilc_classification_df"
   ]
  },
  {
   "cell_type": "code",
   "execution_count": null,
   "metadata": {},
   "outputs": [],
   "source": [
    "ilc_genes_df = pd.read_excel(\"data/1-s2.0-S0092867415011952-mmc9.xlsx\").iloc[2:, 6:8].dropna()\n",
    "ilc_genes_df.columns = ilc_genes_df.iloc[0]\n",
    "ilc_genes_df = ilc_genes_df.drop(ilc_genes_df.index[0])\n",
    "ilc_genes_df = ilc_genes_df.set_index(ilc_genes_df[\"GID| UID\"].str.split(\"|\", expand=True)[1].astype(int))\n",
    "ilc_genes_df = ilc_genes_df.drop(columns=[\"GID| UID\"])\n",
    "ilc_genes_df.columns.name = \"\"\n",
    "ilc_genes_df.head()"
   ]
  },
  {
   "cell_type": "markdown",
   "metadata": {},
   "source": [
    "From here on the index of dataframes is the UID of the gene. The shapes of the df expected: 1277 genes and 127 samples, where we got 1277 genes and the expected number of samples. This is due to the fact that gene with Hugo Symbol ANXA8L2 and id 244 is present among the ilc genes, but not in the data_rna_seq_v2_expression_median.txt file."
   ]
  },
  {
   "cell_type": "code",
   "execution_count": null,
   "metadata": {},
   "outputs": [],
   "source": [
    "rna_seq_df = pd.read_csv(\"data/data_RNA_Seq_v2_expression_median.txt\", sep=\"\\t\")\n",
    "gene_id_in_rna_seq = rna_seq_df[\"Entrez_Gene_Id\"]\n",
    "Hugo_Symbol_in_rna_seq = rna_seq_df[\"Hugo_Symbol\"]\n",
    "rna_seq_df = rna_seq_df.set_index(rna_seq_df[\"Entrez_Gene_Id\"])\n",
    "rna_seq_df = rna_seq_df.drop(columns=[\"Entrez_Gene_Id\", \"Hugo_Symbol\"])\n",
    "rna_seq_df = rna_seq_df.merge(ilc_genes_df, right_index=True, left_index=True)\n",
    "ilc_expression = rna_seq_df[ilc_classification_df[\"Sample ID\"]]\n",
    "ilc_expression.shape"
   ]
  },
  {
   "cell_type": "code",
   "execution_count": null,
   "metadata": {},
   "outputs": [],
   "source": [
    "ilc_genes_df[ilc_genes_df.merge(rna_seq_df, right_index=True, left_index=True, how=\"left\").iloc[:, 5].isna()]"
   ]
  },
  {
   "cell_type": "code",
   "execution_count": null,
   "metadata": {},
   "outputs": [],
   "source": [
    "(gene_id_in_rna_seq == 244).sum()"
   ]
  },
  {
   "cell_type": "code",
   "execution_count": null,
   "metadata": {},
   "outputs": [],
   "source": [
    "(Hugo_Symbol_in_rna_seq == \"ANXA8L2\").sum()"
   ]
  },
  {
   "cell_type": "code",
   "execution_count": null,
   "metadata": {},
   "outputs": [],
   "source": [
    "# scale to allow log scaling\n",
    "ilc_expression[ilc_expression == 0] = 0.000001\n",
    "# log scaling\n",
    "ilc_expression = np.log(ilc_expression)"
   ]
  },
  {
   "cell_type": "code",
   "execution_count": null,
   "metadata": {},
   "outputs": [],
   "source": [
    "ilc_classification_df[\"subclass\"] = pd.Categorical(ilc_classification_df[\"subclass\"])\n",
    "ilc_classification_df[\"subclass\"] = ilc_classification_df[\"subclass\"].cat.codes + 1\n",
    "ilc_classification_df[\"PAM50\"] = pd.Categorical(ilc_classification_df[\"PAM50\"])\n",
    "ilc_classification_df[\"PAM50\"] = ilc_classification_df[\"PAM50\"].cat.codes + 1\n",
    "ilc_classification_df[\"ProliferationScore\"] = pd.cut(ilc_classification_df[\"ProliferationScore\"], bins=100)\n",
    "ilc_classification_df[\"ProliferationScore\"] = ilc_classification_df[\"ProliferationScore\"].cat.codes + 1\n",
    "ilc_classification_df.head()"
   ]
  },
  {
   "cell_type": "code",
   "execution_count": null,
   "metadata": {},
   "outputs": [],
   "source": [
    "import rpy2.robjects as ro\n",
    "from rpy2.robjects import pandas2ri\n",
    "\n",
    "from rpy2.robjects.conversion import localconverter"
   ]
  },
  {
   "cell_type": "code",
   "execution_count": null,
   "metadata": {},
   "outputs": [],
   "source": [
    "with localconverter(ro.default_converter + pandas2ri.converter):\n",
    "    r_from_pd_classification = ro.conversion.py2rpy(ilc_classification_df)\n",
    "    r_from_pd_expression = ro.conversion.py2rpy(ilc_expression)\n",
    "r_from_pd_classification.to_csvfile(\"data/ilc_classification_df.csv\")\n",
    "r_from_pd_expression.to_csvfile(\"data/ilc_expression_df.csv\")"
   ]
  },
  {
   "cell_type": "markdown",
   "metadata": {},
   "source": [
    "### Here execute heatmap5A.R and save the heatmap"
   ]
  },
  {
   "cell_type": "markdown",
   "metadata": {},
   "source": [
    "Note that expression data has been transformed by taking log and then standardizing."
   ]
  },
  {
   "cell_type": "markdown",
   "metadata": {},
   "source": [
    "<img src=\"img/heatmap5A.png\" alt=\"5A\" width=\"500\"/>"
   ]
  },
  {
   "cell_type": "code",
   "execution_count": null,
   "metadata": {},
   "outputs": [],
   "source": []
  }
 ],
 "metadata": {
  "kernelspec": {
   "display_name": "Python [conda env:ada] *",
   "language": "python",
   "name": "conda-env-ada-py"
  },
  "language_info": {
   "codemirror_mode": {
    "name": "ipython",
    "version": 3
   },
   "file_extension": ".py",
   "mimetype": "text/x-python",
   "name": "python",
   "nbconvert_exporter": "python",
   "pygments_lexer": "ipython3",
   "version": "3.7.4"
  }
 },
 "nbformat": 4,
 "nbformat_minor": 4
}
