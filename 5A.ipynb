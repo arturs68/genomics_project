{
 "cells": [
  {
   "cell_type": "markdown",
   "metadata": {},
   "source": [
    "# Task 2\n",
    "\n",
    "Reproduce figure 5A (but use blue-white-red color palette instead of green-black-red); make another heatmap of gene expression "
   ]
  },
  {
   "cell_type": "markdown",
   "metadata": {},
   "source": [
    "Figure caption:\n",
    "\n",
    "ILC Molecular Subtypes(A) Three molecular subtype of lobular breast cancer were identified based on differential gene expression and show unique patterns highly expressed genes(n = 1277, SAM FDR = 0, upper panel), minor difference in tumor purity measured by ABSOLUTE, and differences in gene expression signatures measuringproliferation, CD68, Macrophage-associated CSF1, Macrophage–associated TH1, and T Cell Receptor Signaling (lower panel). Proliferation is highest in theproliferative(Pro) andimmune-related(IR) subgroups; macrophage associated signaling is highest inimmune-relatedtumors."
   ]
  },
  {
   "cell_type": "markdown",
   "metadata": {},
   "source": [
    "Section describing the figure:\n",
    "\n",
    "### ILC mRNA Subtypes\n",
    "\n",
    "Using mRNA-seq expression data from LumA ILC samples\n",
    "(n = 106), we identified three ILC subtypes termed reactive-like,\n",
    "immune-related, and proliferative (Figures S5A–S5I, Table S8).\n",
    "We then used a 3-class ILC subtype classifier (60 genes, Table\n",
    "S13) to score all ILC samples in the TCGA (n = 127) (Figure 5A)\n",
    "and METABRIC (Curtis et al., 2012) datasets (Table S12). Our\n",
    "analyses identified many significant genomic features that distinguished each ILC subtype at the mRNA and protein/phosphoprotein level; but no distinguishing somatic mutations or DNA\n",
    "copy-number alterations.\n",
    "Significant analysis of microarray (SAM) analysis (Tusher et al.,\n",
    "2001) identified 1,277 genes differentially expressed between\n",
    "ILC subtypes (q = 0) (Figure 5A, Table S8). Of these, 1,005\n",
    "were highly expressed in reactive-like tumors, which had lower\n",
    "tumor purity as determined by ABSOLUTE (Carter et al., 2012)\n",
    "(Figures 5A and S5P), and included genes consistent with\n",
    "epithelial and stromal-associated signaling including keratin,\n",
    "kallikrein, and claudin genes as well as the oncogenes EGFR,\n",
    "MET, PDGFRA, and KIT (Table S8). The remaining 272 genes\n",
    "were highly expressed in immune-related tumors and include\n",
    "modulators of immunogenic signaling such as interleukins (IL),\n",
    "chemokine receptors and ligands, major histocompatibility complex, and tumor necrosis factors, as well as IDO1 and IFNG\n",
    "(Figure 5A and Table S8). Interestingly, immune activity in this\n",
    "subset of tumors appears to be predominantly associated with\n",
    "macrophage-associated signaling as increased levels of CD68\n",
    "(p < 0.05), macrophage-associated colony stimulating factor\n",
    "(MacCSF), macrophage-associated TH1 (MacTH1), and T cell\n",
    "receptor (TCR) gene expression signatures (Iglesia et al., 2014)\n",
    "were observed in both the TCGA (Figure 5A) and METABRIC\n",
    "(Figure S5J–S5K) datasets. Finally, proliferative tumors were\n",
    "defined by low expression of each of these 1,277 genes\n",
    "(Figure 5A). Intriguingly, in each dataset (Figures 5 and S5K)\n",
    "proliferative tumors had higher levels of proliferation relative\n",
    "to reactive-like tumors (TCGA: p = 3.3E-09; METABRIC: p =\n",
    "0.018) and slightly higher or equivalent levels compared to\n",
    "immune-related ones (TGCA: p = 0.29; METABRIC: p = 0.008).\n",
    "Regardless of ILC subtype, ILC tumor proliferation was generally\n",
    "lower than all IDC subtypes (Figures S5L–S5M)."
   ]
  },
  {
   "cell_type": "markdown",
   "metadata": {},
   "source": [
    "<img src=\"img/5A.png\" alt=\"5A\" width=\"300\"/>"
   ]
  },
  {
   "cell_type": "code",
   "execution_count": 1,
   "metadata": {},
   "outputs": [],
   "source": [
    "import pandas as pd\n",
    "import numpy as np"
   ]
  },
  {
   "cell_type": "markdown",
   "metadata": {},
   "source": [
    "## load the data"
   ]
  },
  {
   "cell_type": "markdown",
   "metadata": {},
   "source": [
    "Source: supplementary material to https://www.cbioportal.org/study/summary?id=brca_tcga_pub2015"
   ]
  },
  {
   "cell_type": "markdown",
   "metadata": {},
   "source": [
    "Adding subclasses, PAM50, Proliferation score, Tumor Puriy"
   ]
  },
  {
   "cell_type": "code",
   "execution_count": 2,
   "metadata": {},
   "outputs": [
    {
     "data": {
      "text/html": [
       "<div>\n",
       "<style scoped>\n",
       "    .dataframe tbody tr th:only-of-type {\n",
       "        vertical-align: middle;\n",
       "    }\n",
       "\n",
       "    .dataframe tbody tr th {\n",
       "        vertical-align: top;\n",
       "    }\n",
       "\n",
       "    .dataframe thead th {\n",
       "        text-align: right;\n",
       "    }\n",
       "</style>\n",
       "<table border=\"1\" class=\"dataframe\">\n",
       "  <thead>\n",
       "    <tr style=\"text-align: right;\">\n",
       "      <th></th>\n",
       "      <th>PAM50</th>\n",
       "      <th>TumorPurity</th>\n",
       "      <th>ProliferationScore</th>\n",
       "      <th>subclass</th>\n",
       "      <th>Sample ID</th>\n",
       "    </tr>\n",
       "  </thead>\n",
       "  <tbody>\n",
       "    <tr>\n",
       "      <th>1</th>\n",
       "      <td>LumA</td>\n",
       "      <td>0.46</td>\n",
       "      <td>-0.635337</td>\n",
       "      <td>Class1</td>\n",
       "      <td>TCGA-AR-A1AK-01</td>\n",
       "    </tr>\n",
       "    <tr>\n",
       "      <th>2</th>\n",
       "      <td>LumA</td>\n",
       "      <td>0.50</td>\n",
       "      <td>-0.648647</td>\n",
       "      <td>Class1</td>\n",
       "      <td>TCGA-BH-A0HP-01</td>\n",
       "    </tr>\n",
       "    <tr>\n",
       "      <th>3</th>\n",
       "      <td>LumA</td>\n",
       "      <td>0.50</td>\n",
       "      <td>-0.895293</td>\n",
       "      <td>Class1</td>\n",
       "      <td>TCGA-A2-A0EX-01</td>\n",
       "    </tr>\n",
       "    <tr>\n",
       "      <th>5</th>\n",
       "      <td>LumA</td>\n",
       "      <td>0.33</td>\n",
       "      <td>-0.607052</td>\n",
       "      <td>Class1</td>\n",
       "      <td>TCGA-A2-A0YL-01</td>\n",
       "    </tr>\n",
       "    <tr>\n",
       "      <th>7</th>\n",
       "      <td>LumA</td>\n",
       "      <td>0.50</td>\n",
       "      <td>-0.759821</td>\n",
       "      <td>Class1</td>\n",
       "      <td>TCGA-A2-A3KC-01</td>\n",
       "    </tr>\n",
       "    <tr>\n",
       "      <th>...</th>\n",
       "      <td>...</td>\n",
       "      <td>...</td>\n",
       "      <td>...</td>\n",
       "      <td>...</td>\n",
       "      <td>...</td>\n",
       "    </tr>\n",
       "    <tr>\n",
       "      <th>125</th>\n",
       "      <td>LumA</td>\n",
       "      <td>0.79</td>\n",
       "      <td>-0.565745</td>\n",
       "      <td>Class3</td>\n",
       "      <td>TCGA-AC-A3TN-01</td>\n",
       "    </tr>\n",
       "    <tr>\n",
       "      <th>126</th>\n",
       "      <td>LumA</td>\n",
       "      <td>0.45</td>\n",
       "      <td>-0.161190</td>\n",
       "      <td>Class3</td>\n",
       "      <td>TCGA-E2-A107-01</td>\n",
       "    </tr>\n",
       "    <tr>\n",
       "      <th>117</th>\n",
       "      <td>LumB</td>\n",
       "      <td>0.78</td>\n",
       "      <td>-0.013830</td>\n",
       "      <td>Class3</td>\n",
       "      <td>TCGA-AR-A2LK-01</td>\n",
       "    </tr>\n",
       "    <tr>\n",
       "      <th>120</th>\n",
       "      <td>LumB</td>\n",
       "      <td>0.64</td>\n",
       "      <td>0.193688</td>\n",
       "      <td>Class3</td>\n",
       "      <td>TCGA-E9-A2JS-01</td>\n",
       "    </tr>\n",
       "    <tr>\n",
       "      <th>107</th>\n",
       "      <td>Normal</td>\n",
       "      <td>0.58</td>\n",
       "      <td>-1.021325</td>\n",
       "      <td>Class3</td>\n",
       "      <td>TCGA-AC-A3YI-01</td>\n",
       "    </tr>\n",
       "  </tbody>\n",
       "</table>\n",
       "<p>127 rows × 5 columns</p>\n",
       "</div>"
      ],
      "text/plain": [
       "      PAM50  TumorPurity  ProliferationScore subclass        Sample ID\n",
       "1      LumA         0.46           -0.635337   Class1  TCGA-AR-A1AK-01\n",
       "2      LumA         0.50           -0.648647   Class1  TCGA-BH-A0HP-01\n",
       "3      LumA         0.50           -0.895293   Class1  TCGA-A2-A0EX-01\n",
       "5      LumA         0.33           -0.607052   Class1  TCGA-A2-A0YL-01\n",
       "7      LumA         0.50           -0.759821   Class1  TCGA-A2-A3KC-01\n",
       "..      ...          ...                 ...      ...              ...\n",
       "125    LumA         0.79           -0.565745   Class3  TCGA-AC-A3TN-01\n",
       "126    LumA         0.45           -0.161190   Class3  TCGA-E2-A107-01\n",
       "117    LumB         0.78           -0.013830   Class3  TCGA-AR-A2LK-01\n",
       "120    LumB         0.64            0.193688   Class3  TCGA-E9-A2JS-01\n",
       "107  Normal         0.58           -1.021325   Class3  TCGA-AC-A3YI-01\n",
       "\n",
       "[127 rows x 5 columns]"
      ]
     },
     "execution_count": 2,
     "metadata": {},
     "output_type": "execute_result"
    }
   ],
   "source": [
    "xls = pd.ExcelFile(\"data/BRCA817_sample_subgroups.xlsx\")\n",
    "ilc_classification_df = pd.read_excel(xls, \" ILC mRNA subtypes\").iloc[:, 2:].drop(columns=[\"Final Pathology (3.26.14)\"])\n",
    "ilc_classification_df[\"Sample ID\"] = ilc_classification_df[\"Case.ID\"].apply(lambda x: x.replace(\".\", \"-\") + \"-01\")\n",
    "ilc_classification_df = ilc_classification_df.sort_values(by=[\"ILC_Class_score 06.04.2014\", \"PAM50\"]).drop(columns=[\"Case.ID\"])\n",
    "ilc_classification_df = ilc_classification_df.rename(columns={\"ILC_Class_score 06.04.2014\": \"subclass\"})\n",
    "ilc_classification_df"
   ]
  },
  {
   "cell_type": "code",
   "execution_count": 3,
   "metadata": {},
   "outputs": [
    {
     "data": {
      "text/html": [
       "<div>\n",
       "<style scoped>\n",
       "    .dataframe tbody tr th:only-of-type {\n",
       "        vertical-align: middle;\n",
       "    }\n",
       "\n",
       "    .dataframe tbody tr th {\n",
       "        vertical-align: top;\n",
       "    }\n",
       "\n",
       "    .dataframe thead th {\n",
       "        text-align: right;\n",
       "    }\n",
       "</style>\n",
       "<table border=\"1\" class=\"dataframe\">\n",
       "  <thead>\n",
       "    <tr style=\"text-align: right;\">\n",
       "      <th></th>\n",
       "      <th>Class High Expression (FDR=0)</th>\n",
       "    </tr>\n",
       "    <tr>\n",
       "      <th>1</th>\n",
       "      <th></th>\n",
       "    </tr>\n",
       "  </thead>\n",
       "  <tbody>\n",
       "    <tr>\n",
       "      <th>342667</th>\n",
       "      <td>Reactive-like</td>\n",
       "    </tr>\n",
       "    <tr>\n",
       "      <th>3861</th>\n",
       "      <td>Reactive-like</td>\n",
       "    </tr>\n",
       "    <tr>\n",
       "      <th>5650</th>\n",
       "      <td>Reactive-like</td>\n",
       "    </tr>\n",
       "    <tr>\n",
       "      <th>6663</th>\n",
       "      <td>Reactive-like</td>\n",
       "    </tr>\n",
       "    <tr>\n",
       "      <th>118430</th>\n",
       "      <td>Reactive-like</td>\n",
       "    </tr>\n",
       "  </tbody>\n",
       "</table>\n",
       "</div>"
      ],
      "text/plain": [
       "       Class High Expression (FDR=0)\n",
       "1                                   \n",
       "342667                 Reactive-like\n",
       "3861                   Reactive-like\n",
       "5650                   Reactive-like\n",
       "6663                   Reactive-like\n",
       "118430                 Reactive-like"
      ]
     },
     "execution_count": 3,
     "metadata": {},
     "output_type": "execute_result"
    }
   ],
   "source": [
    "ilc_genes_df = pd.read_excel(\"data/1-s2.0-S0092867415011952-mmc9.xlsx\").iloc[2:, 6:8].dropna()\n",
    "ilc_genes_df.columns = ilc_genes_df.iloc[0]\n",
    "ilc_genes_df = ilc_genes_df.drop(ilc_genes_df.index[0])\n",
    "ilc_genes_df = ilc_genes_df.set_index(ilc_genes_df[\"GID| UID\"].str.split(\"|\", expand=True)[1].astype(int))\n",
    "ilc_genes_df = ilc_genes_df.drop(columns=[\"GID| UID\"])\n",
    "ilc_genes_df.columns.name = \"\"\n",
    "ilc_genes_df.head()"
   ]
  },
  {
   "cell_type": "markdown",
   "metadata": {},
   "source": [
    "From here on the index of dataframes is the UID of the gene. The shapes of the df expected: 1277 genes and 127 samples, where we got 1277 genes and the expected number of samples. This is due to the fact that gene with Hugo Symbol ANXA8L2 and id 244 is present among the ilc genes, but not in the data_rna_seq_v2_expression_median.txt file."
   ]
  },
  {
   "cell_type": "code",
   "execution_count": 4,
   "metadata": {},
   "outputs": [
    {
     "data": {
      "text/plain": [
       "(1276, 127)"
      ]
     },
     "execution_count": 4,
     "metadata": {},
     "output_type": "execute_result"
    }
   ],
   "source": [
    "rna_seq_df = pd.read_csv(\"data/data_RNA_Seq_v2_expression_median.txt\", sep=\"\\t\")\n",
    "gene_id_in_rna_seq = rna_seq_df[\"Entrez_Gene_Id\"]\n",
    "Hugo_Symbol_in_rna_seq = rna_seq_df[\"Hugo_Symbol\"]\n",
    "rna_seq_df = rna_seq_df.set_index(rna_seq_df[\"Entrez_Gene_Id\"])\n",
    "rna_seq_df = rna_seq_df.drop(columns=[\"Entrez_Gene_Id\", \"Hugo_Symbol\"])\n",
    "rna_seq_df_merged = rna_seq_df.merge(ilc_genes_df, right_index=True, left_index=True)\n",
    "ilc_expression = rna_seq_df_merged[ilc_classification_df[\"Sample ID\"]]\n",
    "ilc_expression.shape"
   ]
  },
  {
   "cell_type": "code",
   "execution_count": 5,
   "metadata": {},
   "outputs": [
    {
     "data": {
      "text/html": [
       "<div>\n",
       "<style scoped>\n",
       "    .dataframe tbody tr th:only-of-type {\n",
       "        vertical-align: middle;\n",
       "    }\n",
       "\n",
       "    .dataframe tbody tr th {\n",
       "        vertical-align: top;\n",
       "    }\n",
       "\n",
       "    .dataframe thead th {\n",
       "        text-align: right;\n",
       "    }\n",
       "</style>\n",
       "<table border=\"1\" class=\"dataframe\">\n",
       "  <thead>\n",
       "    <tr style=\"text-align: right;\">\n",
       "      <th></th>\n",
       "      <th>Class High Expression (FDR=0)</th>\n",
       "    </tr>\n",
       "    <tr>\n",
       "      <th>1</th>\n",
       "      <th></th>\n",
       "    </tr>\n",
       "  </thead>\n",
       "  <tbody>\n",
       "    <tr>\n",
       "      <th>244</th>\n",
       "      <td>Reactive-like</td>\n",
       "    </tr>\n",
       "  </tbody>\n",
       "</table>\n",
       "</div>"
      ],
      "text/plain": [
       "    Class High Expression (FDR=0)\n",
       "1                                \n",
       "244                 Reactive-like"
      ]
     },
     "execution_count": 5,
     "metadata": {},
     "output_type": "execute_result"
    }
   ],
   "source": [
    "ilc_genes_df[ilc_genes_df.merge(rna_seq_df, right_index=True, left_index=True, how=\"left\").iloc[:, 5].isna()]"
   ]
  },
  {
   "cell_type": "code",
   "execution_count": 6,
   "metadata": {},
   "outputs": [
    {
     "data": {
      "text/plain": [
       "0"
      ]
     },
     "execution_count": 6,
     "metadata": {},
     "output_type": "execute_result"
    }
   ],
   "source": [
    "(gene_id_in_rna_seq == 244).sum()"
   ]
  },
  {
   "cell_type": "code",
   "execution_count": 7,
   "metadata": {},
   "outputs": [
    {
     "data": {
      "text/plain": [
       "0"
      ]
     },
     "execution_count": 7,
     "metadata": {},
     "output_type": "execute_result"
    }
   ],
   "source": [
    "(Hugo_Symbol_in_rna_seq == \"ANXA8L2\").sum()"
   ]
  },
  {
   "cell_type": "code",
   "execution_count": 8,
   "metadata": {},
   "outputs": [],
   "source": [
    "# offset to allow log scaling\n",
    "ilc_expression += 0.5\n",
    "# log scaling\n",
    "ilc_expression = np.log(ilc_expression)"
   ]
  },
  {
   "cell_type": "code",
   "execution_count": 9,
   "metadata": {},
   "outputs": [
    {
     "data": {
      "text/html": [
       "<div>\n",
       "<style scoped>\n",
       "    .dataframe tbody tr th:only-of-type {\n",
       "        vertical-align: middle;\n",
       "    }\n",
       "\n",
       "    .dataframe tbody tr th {\n",
       "        vertical-align: top;\n",
       "    }\n",
       "\n",
       "    .dataframe thead th {\n",
       "        text-align: right;\n",
       "    }\n",
       "</style>\n",
       "<table border=\"1\" class=\"dataframe\">\n",
       "  <thead>\n",
       "    <tr style=\"text-align: right;\">\n",
       "      <th></th>\n",
       "      <th>PAM50</th>\n",
       "      <th>TumorPurity</th>\n",
       "      <th>ProliferationScore</th>\n",
       "      <th>subclass</th>\n",
       "      <th>Sample ID</th>\n",
       "    </tr>\n",
       "  </thead>\n",
       "  <tbody>\n",
       "    <tr>\n",
       "      <th>1</th>\n",
       "      <td>3</td>\n",
       "      <td>0.46</td>\n",
       "      <td>25</td>\n",
       "      <td>1</td>\n",
       "      <td>TCGA-AR-A1AK-01</td>\n",
       "    </tr>\n",
       "    <tr>\n",
       "      <th>2</th>\n",
       "      <td>3</td>\n",
       "      <td>0.50</td>\n",
       "      <td>24</td>\n",
       "      <td>1</td>\n",
       "      <td>TCGA-BH-A0HP-01</td>\n",
       "    </tr>\n",
       "    <tr>\n",
       "      <th>3</th>\n",
       "      <td>3</td>\n",
       "      <td>0.50</td>\n",
       "      <td>11</td>\n",
       "      <td>1</td>\n",
       "      <td>TCGA-A2-A0EX-01</td>\n",
       "    </tr>\n",
       "    <tr>\n",
       "      <th>5</th>\n",
       "      <td>3</td>\n",
       "      <td>0.33</td>\n",
       "      <td>27</td>\n",
       "      <td>1</td>\n",
       "      <td>TCGA-A2-A0YL-01</td>\n",
       "    </tr>\n",
       "    <tr>\n",
       "      <th>7</th>\n",
       "      <td>3</td>\n",
       "      <td>0.50</td>\n",
       "      <td>18</td>\n",
       "      <td>1</td>\n",
       "      <td>TCGA-A2-A3KC-01</td>\n",
       "    </tr>\n",
       "  </tbody>\n",
       "</table>\n",
       "</div>"
      ],
      "text/plain": [
       "   PAM50  TumorPurity  ProliferationScore  subclass        Sample ID\n",
       "1      3         0.46                  25         1  TCGA-AR-A1AK-01\n",
       "2      3         0.50                  24         1  TCGA-BH-A0HP-01\n",
       "3      3         0.50                  11         1  TCGA-A2-A0EX-01\n",
       "5      3         0.33                  27         1  TCGA-A2-A0YL-01\n",
       "7      3         0.50                  18         1  TCGA-A2-A3KC-01"
      ]
     },
     "execution_count": 9,
     "metadata": {},
     "output_type": "execute_result"
    }
   ],
   "source": [
    "ilc_classification_df[\"subclass\"] = pd.Categorical(ilc_classification_df[\"subclass\"])\n",
    "ilc_classification_df[\"subclass\"] = ilc_classification_df[\"subclass\"].cat.codes + 1\n",
    "ilc_classification_df[\"PAM50\"] = pd.Categorical(ilc_classification_df[\"PAM50\"])\n",
    "ilc_classification_df[\"PAM50\"] = ilc_classification_df[\"PAM50\"].cat.codes + 1\n",
    "ilc_classification_df[\"ProliferationScore\"] = pd.cut(ilc_classification_df[\"ProliferationScore\"], bins=100)\n",
    "ilc_classification_df[\"ProliferationScore\"] = ilc_classification_df[\"ProliferationScore\"].cat.codes + 1\n",
    "ilc_classification_df.head()"
   ]
  },
  {
   "cell_type": "code",
   "execution_count": 10,
   "metadata": {},
   "outputs": [],
   "source": [
    "import rpy2.robjects as ro\n",
    "from rpy2.robjects import pandas2ri\n",
    "\n",
    "from rpy2.robjects.conversion import localconverter"
   ]
  },
  {
   "cell_type": "code",
   "execution_count": 11,
   "metadata": {},
   "outputs": [
    {
     "name": "stderr",
     "output_type": "stream",
     "text": [
      "/Users/szalata/anaconda3/envs/ada/lib/python3.7/site-packages/rpy2/robjects/pandas2ri.py:63: UserWarning: Error while trying to convert the column \"Sample ID\". Fall back to string conversion. The error is: module 'pandas' has no attribute 'NA'\n",
      "  % (name, str(e)))\n"
     ]
    },
    {
     "data": {
      "text/plain": [
       "<rpy2.rinterface_lib.sexp.NULLType object at 0x11e59e5f0> [RTYPES.NILSXP]"
      ]
     },
     "execution_count": 11,
     "metadata": {},
     "output_type": "execute_result"
    }
   ],
   "source": [
    "with localconverter(ro.default_converter + pandas2ri.converter):\n",
    "    r_from_pd_classification = ro.conversion.py2rpy(ilc_classification_df)\n",
    "    r_from_pd_expression = ro.conversion.py2rpy(ilc_expression)\n",
    "r_from_pd_classification.to_csvfile(\"data/ilc_classification_df.csv\")\n",
    "r_from_pd_expression.to_csvfile(\"data/ilc_expression_df.csv\")"
   ]
  },
  {
   "cell_type": "code",
   "execution_count": 16,
   "metadata": {},
   "outputs": [],
   "source": [
    "import matplotlib.pyplot as plt\n",
    "import pylab as pl\n",
    "from matplotlib.colors import LinearSegmentedColormap"
   ]
  },
  {
   "cell_type": "markdown",
   "metadata": {},
   "source": [
    "### Here execute heatmap5A.R and save the heatmap"
   ]
  },
  {
   "cell_type": "markdown",
   "metadata": {},
   "source": [
    "Note that expression data has been transformed by taking log and then standardizing."
   ]
  },
  {
   "cell_type": "markdown",
   "metadata": {},
   "source": [
    "<img src=\"img/heatmap5A.png\" alt=\"5A\" width=\"500\"/>"
   ]
  },
  {
   "cell_type": "code",
   "execution_count": 20,
   "metadata": {},
   "outputs": [
    {
     "data": {
      "image/png": "[encoded data removed]",
      "text/plain": [
       "<Figure size 216x108 with 2 Axes>"
      ]
     },
     "metadata": {
      "needs_background": "light"
     },
     "output_type": "display_data"
    }
   ],
   "source": [
    "colors = [(0, 0, 1), (1, 1, 1), (1, 0, 0)]\n",
    "cm_heatmap = LinearSegmentedColormap.from_list(\n",
    "    \"mycm\", colors, N=100)\n",
    "\n",
    "a = np.array([[0,1]])\n",
    "pl.figure(figsize=(3, 1.5))\n",
    "pl.imshow(a, cmap=cm_heatmap)\n",
    "pl.gca().set_visible(False)\n",
    "cax = pl.axes([0.1, 0.2, 0.8, 0.6])\n",
    "pl.colorbar(cax=cax, orientation=\"horizontal\")\n",
    "pl.title(\"level of expression\");"
   ]
  },
  {
   "cell_type": "code",
   "execution_count": 12,
   "metadata": {},
   "outputs": [],
   "source": [
    "# CD68, MacCSF1, MacTh1, TCR\n",
    "expression_levels = np.log(rna_seq_df[ilc_classification_df[\"Sample ID\"]].loc[[968, 1435, 2495, 171558]] + 0.5)\n",
    "expression_levels = expression_levels.fillna(0)\n",
    "expression_levels = expression_levels.sub(expression_levels.mean(axis=1), axis=0)\n",
    "expression_levels = expression_levels.div(expression_levels.std(axis=1), axis=0)"
   ]
  },
  {
   "cell_type": "code",
   "execution_count": 22,
   "metadata": {},
   "outputs": [
    {
     "data": {
      "image/png": "[encoded data removed]",
      "text/plain": [
       "<Figure size 720x360 with 5 Axes>"
      ]
     },
     "metadata": {
      "needs_background": "light"
     },
     "output_type": "display_data"
    },
    {
     "data": {
      "image/png": "[encoded data removed]",
      "text/plain": [
       "<Figure size 216x108 with 2 Axes>"
      ]
     },
     "metadata": {
      "needs_background": "light"
     },
     "output_type": "display_data"
    }
   ],
   "source": [
    "plt.rcParams[\"figure.figsize\"] = 10,5\n",
    "colors = [(0.4, 0.8, 1), (0, 0, 0), (1, 1, 0)]\n",
    "cm = LinearSegmentedColormap.from_list(\n",
    "    \"mycm\", colors, N=100)\n",
    "\n",
    "x = range(len(ilc_classification_df[\"TumorPurity\"]))\n",
    "fig, (ax1,ax2,ax3,ax4,ax5) = plt.subplots(nrows=5, sharex=True)\n",
    "\n",
    "ax1.bar(x, ilc_classification_df[\"TumorPurity\"] * 100, color=(0,0,0))\n",
    "ax1.set_ylabel(\"Tumor purity\")\n",
    "ax2.imshow(expression_levels.iloc[0].values.reshape((1, -1)), cmap=cm, aspect=\"auto\")\n",
    "ax2.set_yticks([])\n",
    "ax2.set_ylabel(\"CD68\")\n",
    "ax3.imshow(expression_levels.iloc[1].values.reshape((1, -1)), cmap=cm, aspect=\"auto\")\n",
    "ax3.set_yticks([])\n",
    "ax3.set_ylabel(\"MacCSF1\")\n",
    "ax4.imshow(expression_levels.iloc[2].values.reshape((1, -1)), cmap=cm, aspect=\"auto\")\n",
    "ax4.set_yticks([])\n",
    "ax4.set_ylabel(\"MacTh1\")\n",
    "ax5.imshow(expression_levels.iloc[3].values.reshape((1, -1)), cmap=cm, aspect=\"auto\")\n",
    "ax5.set_yticks([])\n",
    "ax5.set_ylabel(\"TCR\")\n",
    "plt.xlabel(\"Sample ID, order as in heatmap\")\n",
    "plt.savefig(\"img/tumor_purity_expression.png\");\n",
    "\n",
    "a = np.array([[0,1]])\n",
    "pl.figure(figsize=(3, 1.5))\n",
    "pl.imshow(a, cmap=cm)\n",
    "pl.gca().set_visible(False)\n",
    "cax = pl.axes([0.1, 0.2, 0.8, 0.6])\n",
    "pl.colorbar(cax=cax, orientation=\"horizontal\")\n",
    "pl.title(\"level of expression\");"
   ]
  },
  {
   "cell_type": "markdown",
   "metadata": {},
   "source": [
    "Note that colormap, expression scaling and, most importantly, the order of samples is different than in the publication.\n",
    "The publication doesn't provide enough information on those "
   ]
  },
  {
   "cell_type": "code",
   "execution_count": null,
   "metadata": {},
   "outputs": [],
   "source": []
  }
 ],
 "metadata": {
  "kernelspec": {
   "display_name": "Python [conda env:ada] *",
   "language": "python",
   "name": "conda-env-ada-py"
  },
  "language_info": {
   "codemirror_mode": {
    "name": "ipython",
    "version": 3
   },
   "file_extension": ".py",
   "mimetype": "text/x-python",
   "name": "python",
   "nbconvert_exporter": "python",
   "pygments_lexer": "ipython3",
   "version": "3.7.4"
  }
 },
 "nbformat": 4,
 "nbformat_minor": 4
}
