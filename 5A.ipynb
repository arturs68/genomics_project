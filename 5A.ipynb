{
 "cells": [
  {
   "cell_type": "markdown",
   "metadata": {},
   "source": [
    "# Task 2\n",
    "\n",
    "Reproduce figure 5A (but use blue-white-red color palette instead of green-black-red); make another heatmap of gene expression "
   ]
  },
  {
   "cell_type": "markdown",
   "metadata": {},
   "source": [
    "Figure caption:\n",
    "\n",
    "ILC Molecular Subtypes(A) Three molecular subtype of lobular breast cancer were identified based on differential gene expression and show unique patterns highly expressed genes(n = 1277, SAM FDR = 0, upper panel), minor difference in tumor purity measured by ABSOLUTE, and differences in gene expression signatures measuringproliferation, CD68, Macrophage-associated CSF1, Macrophage–associated TH1, and T Cell Receptor Signaling (lower panel). Proliferation is highest in theproliferative(Pro) andimmune-related(IR) subgroups; macrophage associated signaling is highest inimmune-relatedtumors."
   ]
  },
  {
   "cell_type": "markdown",
   "metadata": {},
   "source": [
    "Section describing the figure:\n",
    "\n",
    "### ILC mRNA Subtypes\n",
    "\n",
    "Using mRNA-seq expression data from LumA ILC samples\n",
    "(n = 106), we identified three ILC subtypes termed reactive-like,\n",
    "immune-related, and proliferative (Figures S5A–S5I, Table S8).\n",
    "We then used a 3-class ILC subtype classifier (60 genes, Table\n",
    "S13) to score all ILC samples in the TCGA (n = 127) (Figure 5A)\n",
    "and METABRIC (Curtis et al., 2012) datasets (Table S12). Our\n",
    "analyses identified many significant genomic features that distinguished each ILC subtype at the mRNA and protein/phosphoprotein level; but no distinguishing somatic mutations or DNA\n",
    "copy-number alterations.\n",
    "Significant analysis of microarray (SAM) analysis (Tusher et al.,\n",
    "2001) identified 1,277 genes differentially expressed between\n",
    "ILC subtypes (q = 0) (Figure 5A, Table S8). Of these, 1,005\n",
    "were highly expressed in reactive-like tumors, which had lower\n",
    "tumor purity as determined by ABSOLUTE (Carter et al., 2012)\n",
    "(Figures 5A and S5P), and included genes consistent with\n",
    "epithelial and stromal-associated signaling including keratin,\n",
    "kallikrein, and claudin genes as well as the oncogenes EGFR,\n",
    "MET, PDGFRA, and KIT (Table S8). The remaining 272 genes\n",
    "were highly expressed in immune-related tumors and include\n",
    "modulators of immunogenic signaling such as interleukins (IL),\n",
    "chemokine receptors and ligands, major histocompatibility complex, and tumor necrosis factors, as well as IDO1 and IFNG\n",
    "(Figure 5A and Table S8). Interestingly, immune activity in this\n",
    "subset of tumors appears to be predominantly associated with\n",
    "macrophage-associated signaling as increased levels of CD68\n",
    "(p < 0.05), macrophage-associated colony stimulating factor\n",
    "(MacCSF), macrophage-associated TH1 (MacTH1), and T cell\n",
    "receptor (TCR) gene expression signatures (Iglesia et al., 2014)\n",
    "were observed in both the TCGA (Figure 5A) and METABRIC\n",
    "(Figure S5J–S5K) datasets. Finally, proliferative tumors were\n",
    "defined by low expression of each of these 1,277 genes\n",
    "(Figure 5A). Intriguingly, in each dataset (Figures 5 and S5K)\n",
    "proliferative tumors had higher levels of proliferation relative\n",
    "to reactive-like tumors (TCGA: p = 3.3E-09; METABRIC: p =\n",
    "0.018) and slightly higher or equivalent levels compared to\n",
    "immune-related ones (TGCA: p = 0.29; METABRIC: p = 0.008).\n",
    "Regardless of ILC subtype, ILC tumor proliferation was generally\n",
    "lower than all IDC subtypes (Figures S5L–S5M)."
   ]
  },
  {
   "cell_type": "markdown",
   "metadata": {},
   "source": [
    "<img src=\"img/5A.png\" alt=\"5A\" width=\"300\"/>"
   ]
  },
  {
   "cell_type": "code",
   "execution_count": 1,
   "metadata": {},
   "outputs": [],
   "source": [
    "import pandas as pd\n",
    "import numpy as np"
   ]
  },
  {
   "cell_type": "markdown",
   "metadata": {},
   "source": [
    "## load the data"
   ]
  },
  {
   "cell_type": "markdown",
   "metadata": {},
   "source": [
    "Source: supplementary material to https://www.cbioportal.org/study/summary?id=brca_tcga_pub2015"
   ]
  },
  {
   "cell_type": "code",
   "execution_count": 2,
   "metadata": {},
   "outputs": [
    {
     "data": {
      "text/html": [
       "<div>\n",
       "<style scoped>\n",
       "    .dataframe tbody tr th:only-of-type {\n",
       "        vertical-align: middle;\n",
       "    }\n",
       "\n",
       "    .dataframe tbody tr th {\n",
       "        vertical-align: top;\n",
       "    }\n",
       "\n",
       "    .dataframe thead th {\n",
       "        text-align: right;\n",
       "    }\n",
       "</style>\n",
       "<table border=\"1\" class=\"dataframe\">\n",
       "  <thead>\n",
       "    <tr style=\"text-align: right;\">\n",
       "      <th>2</th>\n",
       "      <th>Sample ID</th>\n",
       "      <th>60 Gene-classifier Class Assignment</th>\n",
       "    </tr>\n",
       "  </thead>\n",
       "  <tbody>\n",
       "    <tr>\n",
       "      <th>3</th>\n",
       "      <td>TCGA-AR-A2LH-01</td>\n",
       "      <td>Reactive-like</td>\n",
       "    </tr>\n",
       "    <tr>\n",
       "      <th>4</th>\n",
       "      <td>TCGA-AR-A1AK-01</td>\n",
       "      <td>Reactive-like</td>\n",
       "    </tr>\n",
       "    <tr>\n",
       "      <th>5</th>\n",
       "      <td>TCGA-BH-A0HP-01</td>\n",
       "      <td>Reactive-like</td>\n",
       "    </tr>\n",
       "    <tr>\n",
       "      <th>6</th>\n",
       "      <td>TCGA-A2-A0EX-01</td>\n",
       "      <td>Reactive-like</td>\n",
       "    </tr>\n",
       "    <tr>\n",
       "      <th>7</th>\n",
       "      <td>TCGA-A2-A0YK-01</td>\n",
       "      <td>Reactive-like</td>\n",
       "    </tr>\n",
       "  </tbody>\n",
       "</table>\n",
       "</div>"
      ],
      "text/plain": [
       "2        Sample ID 60 Gene-classifier Class Assignment\n",
       "3  TCGA-AR-A2LH-01                       Reactive-like\n",
       "4  TCGA-AR-A1AK-01                       Reactive-like\n",
       "5  TCGA-BH-A0HP-01                       Reactive-like\n",
       "6  TCGA-A2-A0EX-01                       Reactive-like\n",
       "7  TCGA-A2-A0YK-01                       Reactive-like"
      ]
     },
     "execution_count": 2,
     "metadata": {},
     "output_type": "execute_result"
    }
   ],
   "source": [
    "ilc_classification_df = pd.read_excel(\"data/1-s2.0-S0092867415011952-mmc9.xlsx\").iloc[2:, 2:5].dropna()\n",
    "ilc_classification_df.columns = ilc_classification_df.iloc[0]\n",
    "ilc_classification_df = ilc_classification_df.drop(ilc_classification_df.index[0])\n",
    "ilc_classification_df = ilc_classification_df[(ilc_classification_df[\"Dataset\"] == \"TCGA\")][[\"Sample ID\", \"60 Gene-classifier Class Assignment\"]]\n",
    "ilc_classification_df[\"Sample ID\"] = ilc_classification_df[\"Sample ID\"].apply(lambda x: x.replace(\".\", \"-\") + \"-01\")\n",
    "ilc_classification_df.head()"
   ]
  },
  {
   "cell_type": "code",
   "execution_count": 3,
   "metadata": {},
   "outputs": [
    {
     "data": {
      "text/html": [
       "<div>\n",
       "<style scoped>\n",
       "    .dataframe tbody tr th:only-of-type {\n",
       "        vertical-align: middle;\n",
       "    }\n",
       "\n",
       "    .dataframe tbody tr th {\n",
       "        vertical-align: top;\n",
       "    }\n",
       "\n",
       "    .dataframe thead th {\n",
       "        text-align: right;\n",
       "    }\n",
       "</style>\n",
       "<table border=\"1\" class=\"dataframe\">\n",
       "  <thead>\n",
       "    <tr style=\"text-align: right;\">\n",
       "      <th></th>\n",
       "      <th>GID| UID</th>\n",
       "      <th>Class High Expression (FDR=0)</th>\n",
       "    </tr>\n",
       "    <tr>\n",
       "      <th>1</th>\n",
       "      <th></th>\n",
       "      <th></th>\n",
       "    </tr>\n",
       "  </thead>\n",
       "  <tbody>\n",
       "    <tr>\n",
       "      <th>342667</th>\n",
       "      <td>STAC2|342667</td>\n",
       "      <td>Reactive-like</td>\n",
       "    </tr>\n",
       "    <tr>\n",
       "      <th>3861</th>\n",
       "      <td>KRT14|3861</td>\n",
       "      <td>Reactive-like</td>\n",
       "    </tr>\n",
       "    <tr>\n",
       "      <th>5650</th>\n",
       "      <td>KLK7|5650</td>\n",
       "      <td>Reactive-like</td>\n",
       "    </tr>\n",
       "    <tr>\n",
       "      <th>6663</th>\n",
       "      <td>SOX10|6663</td>\n",
       "      <td>Reactive-like</td>\n",
       "    </tr>\n",
       "    <tr>\n",
       "      <th>118430</th>\n",
       "      <td>MUCL1|118430</td>\n",
       "      <td>Reactive-like</td>\n",
       "    </tr>\n",
       "  </tbody>\n",
       "</table>\n",
       "</div>"
      ],
      "text/plain": [
       "            GID| UID Class High Expression (FDR=0)\n",
       "1                                                 \n",
       "342667  STAC2|342667                 Reactive-like\n",
       "3861      KRT14|3861                 Reactive-like\n",
       "5650       KLK7|5650                 Reactive-like\n",
       "6663      SOX10|6663                 Reactive-like\n",
       "118430  MUCL1|118430                 Reactive-like"
      ]
     },
     "execution_count": 3,
     "metadata": {},
     "output_type": "execute_result"
    }
   ],
   "source": [
    "ilc_genes_df = pd.read_excel(\"data/1-s2.0-S0092867415011952-mmc9.xlsx\").iloc[2:, 6:8].dropna()\n",
    "ilc_genes_df.columns = ilc_genes_df.iloc[0]\n",
    "ilc_genes_df = ilc_genes_df.drop(ilc_genes_df.index[0])\n",
    "ilc_genes_df = ilc_genes_df.set_index(ilc_genes_df[\"GID| UID\"].str.split(\"|\", expand=True)[1].astype(int))\n",
    "# ilc_genes_df = ilc_genes_df.drop(columns=[\"GID| UID\"])\n",
    "ilc_genes_df.columns.name = \"\"\n",
    "ilc_genes_df.head()"
   ]
  },
  {
   "cell_type": "markdown",
   "metadata": {},
   "source": [
    "From here on the index of dataframes is the UID of the gene. The shapes of the df expected: 1277 genes and 127 samples, where we got 1277 genes and the expected number of samples. This is due to the fact that gene with Hugo Symbol ANXA8L2 and id 244 is present among the ilc genes, but not in the data_rna_seq_v2_expression_median.txt file."
   ]
  },
  {
   "cell_type": "code",
   "execution_count": 4,
   "metadata": {},
   "outputs": [
    {
     "data": {
      "text/plain": [
       "(1276, 127)"
      ]
     },
     "execution_count": 4,
     "metadata": {},
     "output_type": "execute_result"
    }
   ],
   "source": [
    "rna_seq_df = pd.read_csv(\"data/data_RNA_Seq_v2_expression_median.txt\", sep=\"\\t\")\n",
    "gene_id_in_rna_seq = rna_seq_df[\"Entrez_Gene_Id\"]\n",
    "Hugo_Symbol_in_rna_seq = rna_seq_df[\"Hugo_Symbol\"]\n",
    "rna_seq_df = rna_seq_df.set_index(rna_seq_df[\"Entrez_Gene_Id\"])\n",
    "rna_seq_df = rna_seq_df.drop(columns=[\"Entrez_Gene_Id\", \"Hugo_Symbol\"])\n",
    "rna_seq_df = rna_seq_df.merge(ilc_genes_df, right_index=True, left_index=True)\n",
    "ilc_expression = rna_seq_df[ilc_classification_df[\"Sample ID\"]]\n",
    "ilc_expression.shape"
   ]
  },
  {
   "cell_type": "code",
   "execution_count": 5,
   "metadata": {},
   "outputs": [
    {
     "data": {
      "text/html": [
       "<div>\n",
       "<style scoped>\n",
       "    .dataframe tbody tr th:only-of-type {\n",
       "        vertical-align: middle;\n",
       "    }\n",
       "\n",
       "    .dataframe tbody tr th {\n",
       "        vertical-align: top;\n",
       "    }\n",
       "\n",
       "    .dataframe thead th {\n",
       "        text-align: right;\n",
       "    }\n",
       "</style>\n",
       "<table border=\"1\" class=\"dataframe\">\n",
       "  <thead>\n",
       "    <tr style=\"text-align: right;\">\n",
       "      <th></th>\n",
       "      <th>GID| UID</th>\n",
       "      <th>Class High Expression (FDR=0)</th>\n",
       "    </tr>\n",
       "    <tr>\n",
       "      <th>1</th>\n",
       "      <th></th>\n",
       "      <th></th>\n",
       "    </tr>\n",
       "  </thead>\n",
       "  <tbody>\n",
       "    <tr>\n",
       "      <th>244</th>\n",
       "      <td>ANXA8L2|244</td>\n",
       "      <td>Reactive-like</td>\n",
       "    </tr>\n",
       "  </tbody>\n",
       "</table>\n",
       "</div>"
      ],
      "text/plain": [
       "        GID| UID Class High Expression (FDR=0)\n",
       "1                                             \n",
       "244  ANXA8L2|244                 Reactive-like"
      ]
     },
     "execution_count": 5,
     "metadata": {},
     "output_type": "execute_result"
    }
   ],
   "source": [
    "ilc_genes_df[ilc_genes_df.merge(rna_seq_df, right_index=True, left_index=True, how=\"left\").iloc[:, 5].isna()]"
   ]
  },
  {
   "cell_type": "code",
   "execution_count": 6,
   "metadata": {},
   "outputs": [
    {
     "data": {
      "text/plain": [
       "0"
      ]
     },
     "execution_count": 6,
     "metadata": {},
     "output_type": "execute_result"
    }
   ],
   "source": [
    "(gene_id_in_rna_seq == 244).sum()"
   ]
  },
  {
   "cell_type": "code",
   "execution_count": 7,
   "metadata": {},
   "outputs": [
    {
     "data": {
      "text/plain": [
       "0"
      ]
     },
     "execution_count": 7,
     "metadata": {},
     "output_type": "execute_result"
    }
   ],
   "source": [
    "(Hugo_Symbol_in_rna_seq == \"ANXA8L2\").sum()"
   ]
  },
  {
   "cell_type": "code",
   "execution_count": 8,
   "metadata": {},
   "outputs": [
    {
     "name": "stderr",
     "output_type": "stream",
     "text": [
      "/Users/szalata/anaconda3/envs/ada/lib/python3.7/site-packages/ipykernel_launcher.py:2: SettingWithCopyWarning: \n",
      "A value is trying to be set on a copy of a slice from a DataFrame.\n",
      "Try using .loc[row_indexer,col_indexer] = value instead\n",
      "\n",
      "See the caveats in the documentation: http://pandas.pydata.org/pandas-docs/stable/user_guide/indexing.html#returning-a-view-versus-a-copy\n",
      "  \n",
      "/Users/szalata/anaconda3/envs/ada/lib/python3.7/site-packages/pandas/core/frame.py:3530: SettingWithCopyWarning: \n",
      "A value is trying to be set on a copy of a slice from a DataFrame\n",
      "\n",
      "See the caveats in the documentation: http://pandas.pydata.org/pandas-docs/stable/user_guide/indexing.html#returning-a-view-versus-a-copy\n",
      "  self._where(-key, value, inplace=True)\n"
     ]
    }
   ],
   "source": [
    "# scale to allow log scaling\n",
    "ilc_expression[ilc_expression == 0] = 0.000001\n",
    "# log scaling\n",
    "ilc_expression = np.log(ilc_expression)"
   ]
  },
  {
   "cell_type": "code",
   "execution_count": 9,
   "metadata": {},
   "outputs": [],
   "source": [
    "ilc_classification_df[\"60 Gene-classifier Class Assignment\"] = pd.Categorical(ilc_classification_df[\"60 Gene-classifier Class Assignment\"])\n",
    "ilc_classification_df[\"subtype_code\"] = ilc_classification_df[\"60 Gene-classifier Class Assignment\"].cat.codes"
   ]
  },
  {
   "cell_type": "markdown",
   "metadata": {},
   "source": [
    "Export to R to perform SAM"
   ]
  },
  {
   "cell_type": "code",
   "execution_count": 10,
   "metadata": {},
   "outputs": [],
   "source": [
    "import rpy2.robjects as ro\n",
    "from rpy2.robjects import pandas2ri\n",
    "\n",
    "from rpy2.robjects.conversion import localconverter"
   ]
  },
  {
   "cell_type": "code",
   "execution_count": 11,
   "metadata": {},
   "outputs": [
    {
     "data": {
      "text/plain": [
       "<rpy2.rinterface_lib.sexp.NULLType object at 0x103fb33c0> [RTYPES.NILSXP]"
      ]
     },
     "execution_count": 11,
     "metadata": {},
     "output_type": "execute_result"
    }
   ],
   "source": [
    "with localconverter(ro.default_converter + pandas2ri.converter):\n",
    "    r_from_pd_classification = ro.conversion.py2rpy(ilc_classification_df[[\"subtype_code\"]])\n",
    "    r_from_pd_expression = ro.conversion.py2rpy(ilc_expression)\n",
    "r_from_pd_classification.to_csvfile(\"data/ilc_classification_df.csv\")\n",
    "r_from_pd_expression.to_csvfile(\"data/ilc_expression_df.csv\")"
   ]
  },
  {
   "cell_type": "markdown",
   "metadata": {},
   "source": [
    "### Here execute heatmap5A.R and save the heatmap"
   ]
  },
  {
   "cell_type": "markdown",
   "metadata": {},
   "source": [
    "subtypes color map:\n",
    "- black: Reactive-like\n",
    "- red: Immune-related\n",
    "- green: Proliferative"
   ]
  },
  {
   "cell_type": "markdown",
   "metadata": {},
   "source": [
    "<img src=\"img/heatmap5A.png\" alt=\"5A\" width=\"500\"/>"
   ]
  },
  {
   "cell_type": "code",
   "execution_count": null,
   "metadata": {},
   "outputs": [],
   "source": []
  }
 ],
 "metadata": {
  "kernelspec": {
   "display_name": "Python [conda env:ada] *",
   "language": "python",
   "name": "conda-env-ada-py"
  },
  "language_info": {
   "codemirror_mode": {
    "name": "ipython",
    "version": 3
   },
   "file_extension": ".py",
   "mimetype": "text/x-python",
   "name": "python",
   "nbconvert_exporter": "python",
   "pygments_lexer": "ipython3",
   "version": "3.7.4"
  }
 },
 "nbformat": 4,
 "nbformat_minor": 4
}
