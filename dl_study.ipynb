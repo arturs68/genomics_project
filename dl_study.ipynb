{
 "cells": [
  {
   "cell_type": "markdown",
   "metadata": {},
   "source": [
    "# deep learning study"
   ]
  },
  {
   "cell_type": "code",
   "execution_count": 2,
   "metadata": {},
   "outputs": [],
   "source": [
    "import pandas as pd\n",
    "import matplotlib.pyplot as plt"
   ]
  },
  {
   "cell_type": "code",
   "execution_count": 43,
   "metadata": {},
   "outputs": [],
   "source": [
    "proliferation_df = pd.read_excel(\"data/1-s2.0-S0092867415011952-mmc2.xlsx\").iloc[1:, :5]\n",
    "proliferation_df.columns = proliferation_df.iloc[0]\n",
    "proliferation_df = proliferation_df.drop(proliferation_df.index[0])\n",
    "proliferation_df = proliferation_df[[\"Case.ID\", \"ProliferationScore\"]]\n",
    "proliferation_df[\"Case.ID\"] = proliferation_df[\"Case.ID\"].apply(lambda x: x + \"-01\")\n",
    "proliferation_df[\"ProliferationScore\"] = proliferation_df[\"ProliferationScore\"].astype(float)"
   ]
  },
  {
   "cell_type": "code",
   "execution_count": 44,
   "metadata": {},
   "outputs": [],
   "source": [
    "import rpy2.robjects as ro\n",
    "from rpy2.robjects import pandas2ri\n",
    "import numpy as np\n",
    "\n",
    "from rpy2.robjects.conversion import localconverter"
   ]
  },
  {
   "cell_type": "code",
   "execution_count": 45,
   "metadata": {},
   "outputs": [
    {
     "name": "stderr",
     "output_type": "stream",
     "text": [
      "/Users/szalata/anaconda3/envs/ada/lib/python3.7/site-packages/rpy2/robjects/pandas2ri.py:63: UserWarning: Error while trying to convert the column \"Case.ID\". Fall back to string conversion. The error is: module 'pandas' has no attribute 'NA'\n",
      "  % (name, str(e)))\n"
     ]
    },
    {
     "data": {
      "text/plain": [
       "<rpy2.rinterface_lib.sexp.NULLType object at 0x117d893c0> [RTYPES.NILSXP]"
      ]
     },
     "execution_count": 45,
     "metadata": {},
     "output_type": "execute_result"
    }
   ],
   "source": [
    "with localconverter(ro.default_converter + pandas2ri.converter):\n",
    "    proliferation_df_r = ro.conversion.py2rpy(proliferation_df)\n",
    "proliferation_df_r.to_csvfile(\"data/proliferation_df.csv\")"
   ]
  },
  {
   "cell_type": "code",
   "execution_count": 594,
   "metadata": {},
   "outputs": [],
   "source": [
    "ro.r['load'](\"data/norm.Rda\")\n",
    "ro.r['load'](\"data/colnames.Rda\");"
   ]
  },
  {
   "cell_type": "code",
   "execution_count": 165,
   "metadata": {},
   "outputs": [],
   "source": [
    "colnames = pd.DataFrame(ro.r[\"columns\"])"
   ]
  },
  {
   "cell_type": "code",
   "execution_count": 595,
   "metadata": {},
   "outputs": [],
   "source": [
    "expression_array = np.array(ro.r[\"rpkm\"]).reshape((-1, 816))"
   ]
  },
  {
   "cell_type": "code",
   "execution_count": 170,
   "metadata": {},
   "outputs": [],
   "source": [
    "proliferation = colnames.merge(proliferation_df, left_on=0, right_on=\"Case.ID\")[\"ProliferationScore\"]"
   ]
  },
  {
   "cell_type": "code",
   "execution_count": 64,
   "metadata": {},
   "outputs": [
    {
     "data": {
      "text/plain": [
       "(13924, 816)"
      ]
     },
     "execution_count": 64,
     "metadata": {},
     "output_type": "execute_result"
    }
   ],
   "source": [
    "expression_array.shape"
   ]
  },
  {
   "cell_type": "code",
   "execution_count": 75,
   "metadata": {},
   "outputs": [],
   "source": [
    "from torch.utils.data import DataLoader,Dataset"
   ]
  },
  {
   "cell_type": "code",
   "execution_count": 107,
   "metadata": {},
   "outputs": [],
   "source": [
    "class noisedDataset(Dataset):  \n",
    "    def __init__(self, dataset_array, noise_std=2):\n",
    "        self.data_array = expression_array.T\n",
    "        self.noise_std = noise_std\n",
    "  \n",
    "    def __len__(self):\n",
    "        return len(self.data_array)\n",
    "  \n",
    "    def __getitem__(self,idx):\n",
    "        clean = self.data_array[idx]\n",
    "        noised = clean + torch.empty(clean.shape).normal_(mean=0,std=self.noise_std).detach().numpy()\n",
    "    \n",
    "        noised = torch.Tensor(noised)\n",
    "        clean = torch.Tensor(clean)\n",
    "        return clean, noised"
   ]
  },
  {
   "cell_type": "code",
   "execution_count": 137,
   "metadata": {},
   "outputs": [],
   "source": [
    "trainset = noisedDataset(expression_array)\n",
    "testset = torch.Tensor(expression_array.T)"
   ]
  },
  {
   "cell_type": "code",
   "execution_count": 109,
   "metadata": {},
   "outputs": [],
   "source": [
    "batch_size=128\n",
    "\n",
    "trainloader=DataLoader(trainset,batch_size=batch_size,shuffle=True)\n",
    "testloader=DataLoader(testset,batch_size=batch_size,shuffle=False)"
   ]
  },
  {
   "cell_type": "markdown",
   "metadata": {},
   "source": [
    "# DA model"
   ]
  },
  {
   "cell_type": "code",
   "execution_count": 130,
   "metadata": {},
   "outputs": [],
   "source": [
    "import torch.nn as nn\n",
    "import torch\n",
    "\n",
    "\n",
    "class autoencoder(nn.Module):\n",
    "    def __init__(self, n_features):\n",
    "        super(autoencoder, self).__init__()\n",
    "        first_FC = n_features//8\n",
    "        self.encoder = nn.Sequential(\n",
    "            nn.Linear(n_features, first_FC),\n",
    "            nn.BatchNorm1d(first_FC),\n",
    "            nn.ReLU(True),\n",
    "            nn.Linear(first_FC, 100),\n",
    "            nn.BatchNorm1d(100),\n",
    "            nn.ReLU(True))\n",
    "        self.decoder = nn.Sequential(\n",
    "            nn.Linear(100, first_FC),\n",
    "            nn.BatchNorm1d(first_FC),\n",
    "            nn.ReLU(True),\n",
    "            nn.Linear(first_FC, n_features))\n",
    "\n",
    "    def forward(self, x):\n",
    "        x = self.encoder(x)\n",
    "        x = self.decoder(x)\n",
    "        return x\n",
    "    \n",
    "    def encode(self, x):\n",
    "        return self.encoder(x)"
   ]
  },
  {
   "cell_type": "code",
   "execution_count": 131,
   "metadata": {},
   "outputs": [],
   "source": [
    "model = autoencoder(len(expression_array))\n",
    "# specify loss function\n",
    "criterion = nn.MSELoss()\n",
    "\n",
    "# specify loss function\n",
    "optimizer = torch.optim.Adam(model.parameters(), lr=0.01)"
   ]
  },
  {
   "cell_type": "code",
   "execution_count": null,
   "metadata": {},
   "outputs": [],
   "source": [
    "# number of epochs to train the model\n",
    "n_epochs = 2000\n",
    "\n",
    "\n",
    "for epoch in range(1, n_epochs+1):\n",
    "    # monitor training loss\n",
    "    train_loss = 0.0\n",
    "    \n",
    "    ###################\n",
    "    # train the model #\n",
    "    ###################\n",
    "    for clean, noised in trainloader:     \n",
    "        clean, noised = clean, noised  \n",
    "        # clear the gradients of all optimized variables\n",
    "        optimizer.zero_grad()\n",
    "        ## forward pass: compute predicted outputs by passing *noisy* images to the model\n",
    "        outputs = model(noised)\n",
    "        # calculate the loss\n",
    "        # the \"target\" is still the original, not-noisy images\n",
    "        loss = criterion(outputs, clean)\n",
    "        # backward pass: compute gradient of the loss with respect to model parameters\n",
    "        loss.backward()\n",
    "        # perform a single optimization step (parameter update)\n",
    "        optimizer.step()\n",
    "        # update running training loss\n",
    "        train_loss += loss.item() * clean.size(0)\n",
    "            \n",
    "    # print avg training statistics \n",
    "    if epoch % 50 == 0:\n",
    "        model.eval()\n",
    "        test_loss = 0\n",
    "        with torch.no_grad():\n",
    "            for clean in testloader:\n",
    "                clean = clean  \n",
    "                outputs = model(clean)\n",
    "                loss = criterion(outputs, clean)\n",
    "                test_loss += loss.item() * clean.size(0)\n",
    "        model.train()\n",
    "        test_loss = test_loss/len(testloader)\n",
    "        print('Epoch: {} \\tTesting Loss: {:.6f}'.format(\n",
    "            epoch, \n",
    "            test_loss\n",
    "            ))"
   ]
  },
  {
   "cell_type": "code",
   "execution_count": null,
   "metadata": {},
   "outputs": [],
   "source": [
    "torch.save(model.state_dict(), \"data/model.pt\")"
   ]
  },
  {
   "cell_type": "code",
   "execution_count": 134,
   "metadata": {},
   "outputs": [],
   "source": [
    "model.load_state_dict(torch.load(\"data/model.pt\"))\n",
    "model.eval();"
   ]
  },
  {
   "cell_type": "code",
   "execution_count": 147,
   "metadata": {},
   "outputs": [],
   "source": [
    "encoded_expression = model.encode(testset).detach().numpy()"
   ]
  },
  {
   "cell_type": "code",
   "execution_count": 1000,
   "metadata": {},
   "outputs": [
    {
     "data": {
      "text/plain": [
       "(816, 100)"
      ]
     },
     "execution_count": 1000,
     "metadata": {},
     "output_type": "execute_result"
    }
   ],
   "source": [
    "encoded_expression.shape"
   ]
  },
  {
   "cell_type": "markdown",
   "metadata": {},
   "source": [
    "# Survival regression"
   ]
  },
  {
   "cell_type": "markdown",
   "metadata": {},
   "source": [
    "Only based on the 100 differential genes wrt proliferation"
   ]
  },
  {
   "cell_type": "code",
   "execution_count": 1001,
   "metadata": {},
   "outputs": [],
   "source": [
    "clinical_df = pd.read_csv(\"data/data_clinical_patient.txt\", sep=\"\\t\").iloc[4:, [0, 5, -4, -3]]\n",
    "clinical_df[\"#Patient Identifier\"] = clinical_df[\"#Patient Identifier\"].apply(lambda x: x.replace(\".\", \"-\") + \"-01\")\n",
    "clinical_df[\"Overall Survival Status\"] = pd.Categorical(clinical_df[\"Overall Survival Status\"])\n",
    "clinical_df[\"Overall Survival Status\"] = clinical_df[\"Overall Survival Status\"].cat.codes\n",
    "clinical_df[\"Overall Survival Status\"] = clinical_df[\"Overall Survival Status\"].apply(lambda x: 0 if x == 1 else 1)\n",
    "clinical_df = clinical_df[clinical_df[\"Overall Survival (Months)\"] != \"[Not Available]\"]\n",
    "clinical_df = clinical_df[clinical_df[\"Birth from Initial Pathologic Diagnosis Date\"] != \"[Not Available]\"]\n",
    "clinical_df[\"Overall Survival (Months)\"] = clinical_df[\"Overall Survival (Months)\"].astype(float)"
   ]
  },
  {
   "cell_type": "code",
   "execution_count": 1003,
   "metadata": {},
   "outputs": [
    {
     "data": {
      "text/plain": [
       "(801, 5)"
      ]
     },
     "execution_count": 1003,
     "metadata": {},
     "output_type": "execute_result"
    }
   ],
   "source": [
    "clinical_data.shape"
   ]
  },
  {
   "cell_type": "code",
   "execution_count": 1002,
   "metadata": {},
   "outputs": [],
   "source": [
    "clinical_data = colnames.merge(clinical_df, left_on=0, right_on=\"#Patient Identifier\")\n",
    "indices_clinical = clinical_data.index"
   ]
  },
  {
   "cell_type": "code",
   "execution_count": 975,
   "metadata": {},
   "outputs": [],
   "source": [
    "from lifelines import CoxPHFitter"
   ]
  },
  {
   "cell_type": "code",
   "execution_count": 976,
   "metadata": {},
   "outputs": [],
   "source": [
    "reduced_expression_array = pd.DataFrame(np.copy(expression_array.T))"
   ]
  },
  {
   "cell_type": "code",
   "execution_count": null,
   "metadata": {},
   "outputs": [],
   "source": [
    "# this doesn't converge due to high collinearity of the expression matrix\n",
    "\n",
    "expression_df = pd.DataFrame(expression_array.T[indices_clinical])\n",
    "expression_df[\"duration\"] = clinical_data[\"Overall Survival (Months)\"]\n",
    "expression_df[\"event\"] = clinical_data[\"Overall Survival Status\"]\n",
    "\n",
    "cph = CoxPHFitter()\n",
    "cph.fit(expression_df, duration_col=\"duration\", event_col=\"event\")\n",
    "\n",
    "cph.print_summary()"
   ]
  },
  {
   "cell_type": "markdown",
   "metadata": {},
   "source": [
    "100 PCA components from all the expressions"
   ]
  },
  {
   "cell_type": "code",
   "execution_count": 980,
   "metadata": {},
   "outputs": [],
   "source": [
    "# doing PCA to remove collinearity and select only relevant components\n",
    "\n",
    "from sklearn.decomposition import PCA\n",
    "pca = PCA(n_components=100)\n",
    "pca.fit(expression_array);"
   ]
  },
  {
   "cell_type": "code",
   "execution_count": 981,
   "metadata": {},
   "outputs": [
    {
     "name": "stderr",
     "output_type": "stream",
     "text": [
      "/Users/szalata/anaconda3/envs/ada/lib/python3.7/site-packages/lifelines/utils/__init__.py:1095: ConvergenceWarning: Column(s) [0] have very low variance. This may harm convergence. Try dropping this redundant column before fitting if convergence fails.\n",
      "\n",
      "  warnings.warn(dedent(warning_text), ConvergenceWarning)\n"
     ]
    },
    {
     "data": {
      "text/plain": [
       "0.7588474955396373"
      ]
     },
     "execution_count": 981,
     "metadata": {},
     "output_type": "execute_result"
    }
   ],
   "source": [
    "expression_df = pd.DataFrame(pca.components_.T[indices_clinical])\n",
    "expression_df[\"duration\"] = clinical_data[\"Overall Survival (Months)\"]\n",
    "expression_df[\"event\"] = clinical_data[\"Overall Survival Status\"]\n",
    "expression_df[\"diagnosis_time\"] = clinical_data[\"Birth from Initial Pathologic Diagnosis Date\"]\n",
    "\n",
    "cph = CoxPHFitter()\n",
    "cph.fit(expression_df, duration_col=\"duration\", event_col=\"event\");\n",
    "cph.concordance_index_"
   ]
  },
  {
   "cell_type": "markdown",
   "metadata": {},
   "source": [
    "Only age as predictor"
   ]
  },
  {
   "cell_type": "code",
   "execution_count": 982,
   "metadata": {},
   "outputs": [
    {
     "data": {
      "text/plain": [
       "0.6373658562564908"
      ]
     },
     "execution_count": 982,
     "metadata": {},
     "output_type": "execute_result"
    }
   ],
   "source": [
    "encoded_expression_df = pd.DataFrame()\n",
    "encoded_expression_df[\"duration\"] = clinical_data[\"Overall Survival (Months)\"]\n",
    "encoded_expression_df[\"event\"] = clinical_data[\"Overall Survival Status\"]\n",
    "encoded_expression_df[\"diagnosis age\"] = -clinical_data[\"Birth from Initial Pathologic Diagnosis Date\"].astype(int)/365\n",
    "\n",
    "cph = CoxPHFitter()\n",
    "cph.fit(encoded_expression_df, duration_col=\"duration\", event_col=\"event\")\n",
    "\n",
    "cph.concordance_index_"
   ]
  },
  {
   "cell_type": "markdown",
   "metadata": {},
   "source": [
    "Expression summary from autoencode"
   ]
  },
  {
   "cell_type": "code",
   "execution_count": 987,
   "metadata": {},
   "outputs": [
    {
     "data": {
      "text/plain": [
       "0.8097622027534418"
      ]
     },
     "execution_count": 987,
     "metadata": {},
     "output_type": "execute_result"
    }
   ],
   "source": [
    "encoded_expression_df = pd.DataFrame(encoded_expression[indices_clinical])\n",
    "encoded_expression_df[\"duration\"] = clinical_data[\"Overall Survival (Months)\"]\n",
    "encoded_expression_df[\"event\"] = clinical_data[\"Overall Survival Status\"]\n",
    "encoded_expression_df[\"diagnosis age\"] = -clinical_data[\"Birth from Initial Pathologic Diagnosis Date\"].astype(int)/365\n",
    "\n",
    "cph = CoxPHFitter()\n",
    "cph.fit(encoded_expression_df, duration_col=\"duration\", event_col=\"event\")\n",
    "\n",
    "cph.concordance_index_"
   ]
  },
  {
   "cell_type": "code",
   "execution_count": 988,
   "metadata": {},
   "outputs": [
    {
     "data": {
      "image/png": "[encoded data removed]",
      "text/plain": [
       "<Figure size 432x288 with 1 Axes>"
      ]
     },
     "metadata": {
      "needs_background": "light"
     },
     "output_type": "display_data"
    }
   ],
   "source": [
    "cph.plot_covariate_groups(\"diagnosis age\", np.linspace(encoded_expression_df[\"diagnosis age\"].min(),\n",
    "                                                       encoded_expression_df[\"diagnosis age\"].max(), 5).astype(int),\n",
    "                          cmap='coolwarm', plot_baseline=False);"
   ]
  },
  {
   "cell_type": "markdown",
   "metadata": {},
   "source": [
    "top 100 differentially expressed genes wrt proliferation score"
   ]
  },
  {
   "cell_type": "code",
   "execution_count": 985,
   "metadata": {},
   "outputs": [
    {
     "data": {
      "text/plain": [
       "0.7690730434319495"
      ]
     },
     "execution_count": 985,
     "metadata": {},
     "output_type": "execute_result"
    }
   ],
   "source": [
    "ro.r['load'](\"data/rownames.Rda\")\n",
    "rownames = pd.DataFrame(ro.r[\"rows\"])\n",
    "rownames[0] = rownames[0].astype(int)\n",
    "rownames.reset_index(inplace=True)\n",
    "\n",
    "proliferation_differential_genes = pd.DataFrame(ro.r[\"high.vs.low.proliferation.topgenes\"])\n",
    "proliferation_expression = expression_array[rownames.merge(proliferation_differential_genes, left_on=0, right_on=0)[\"index\"], :].T\n",
    "\n",
    "proliferation_df = pd.DataFrame(proliferation_expression[indices_clinical])\n",
    "proliferation_df[\"duration\"] = clinical_data[\"Overall Survival (Months)\"]\n",
    "proliferation_df[\"event\"] = clinical_data[\"Overall Survival Status\"]\n",
    "proliferation_df[\"diagnosis_time\"] = clinical_data[\"Birth from Initial Pathologic Diagnosis Date\"]\n",
    "\n",
    "\n",
    "cph = CoxPHFitter()\n",
    "cph.fit(proliferation_df, duration_col=\"duration\", event_col=\"event\")\n",
    "\n",
    "cph.concordance_index_"
   ]
  },
  {
   "cell_type": "code",
   "execution_count": 1007,
   "metadata": {},
   "outputs": [
    {
     "data": {
      "text/plain": [
       "118"
      ]
     },
     "execution_count": 1007,
     "metadata": {},
     "output_type": "execute_result"
    }
   ],
   "source": [
    "encoded_expression_df[\"event\"].sum()"
   ]
  },
  {
   "cell_type": "code",
   "execution_count": null,
   "metadata": {},
   "outputs": [],
   "source": []
  }
 ],
 "metadata": {
  "kernelspec": {
   "display_name": "Python [conda env:ada] *",
   "language": "python",
   "name": "conda-env-ada-py"
  },
  "language_info": {
   "codemirror_mode": {
    "name": "ipython",
    "version": 3
   },
   "file_extension": ".py",
   "mimetype": "text/x-python",
   "name": "python",
   "nbconvert_exporter": "python",
   "pygments_lexer": "ipython3",
   "version": "3.7.4"
  }
 },
 "nbformat": 4,
 "nbformat_minor": 4
}
